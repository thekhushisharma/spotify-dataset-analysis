{
 "cells": [
  {
   "cell_type": "markdown",
   "id": "45f8db15",
   "metadata": {},
   "source": [
    "## Spotify Case Study"
   ]
  },
  {
   "cell_type": "code",
   "execution_count": 1,
   "id": "d5325548",
   "metadata": {},
   "outputs": [
    {
     "ename": "ModuleNotFoundError",
     "evalue": "No module named 'plotly'",
     "output_type": "error",
     "traceback": [
      "\u001b[31m---------------------------------------------------------------------------\u001b[39m",
      "\u001b[31mModuleNotFoundError\u001b[39m                       Traceback (most recent call last)",
      "\u001b[36mCell\u001b[39m\u001b[36m \u001b[39m\u001b[32mIn[1]\u001b[39m\u001b[32m, line 5\u001b[39m\n\u001b[32m      3\u001b[39m \u001b[38;5;28;01mimport\u001b[39;00m\u001b[38;5;250m \u001b[39m\u001b[34;01mmatplotlib\u001b[39;00m\u001b[34;01m.\u001b[39;00m\u001b[34;01mpyplot\u001b[39;00m\u001b[38;5;250m \u001b[39m\u001b[38;5;28;01mas\u001b[39;00m\u001b[38;5;250m \u001b[39m\u001b[34;01mplt\u001b[39;00m\n\u001b[32m      4\u001b[39m \u001b[38;5;28;01mimport\u001b[39;00m\u001b[38;5;250m \u001b[39m\u001b[34;01mseaborn\u001b[39;00m\u001b[38;5;250m \u001b[39m\u001b[38;5;28;01mas\u001b[39;00m\u001b[38;5;250m \u001b[39m\u001b[34;01msns\u001b[39;00m\n\u001b[32m----> \u001b[39m\u001b[32m5\u001b[39m \u001b[38;5;28;01mimport\u001b[39;00m\u001b[38;5;250m \u001b[39m\u001b[34;01mplotly\u001b[39;00m\u001b[34;01m.\u001b[39;00m\u001b[34;01mexpress\u001b[39;00m\u001b[38;5;250m \u001b[39m\u001b[38;5;28;01mas\u001b[39;00m\u001b[38;5;250m \u001b[39m\u001b[34;01mpx\u001b[39;00m\n",
      "\u001b[31mModuleNotFoundError\u001b[39m: No module named 'plotly'"
     ]
    }
   ],
   "source": [
    "import numpy as np # linear algebra\n",
    "import pandas as pd # data processing, CSV file I/O (e.g. pd.read_csv)\n",
    "import matplotlib.pyplot as plt\n",
    "import seaborn as sns\n",
    "import plotly.express as px"
   ]
  },
  {
   "cell_type": "markdown",
   "id": "a06681a5",
   "metadata": {},
   "source": [
    "### Reading csv file"
   ]
  },
  {
   "cell_type": "code",
   "execution_count": null,
   "id": "ccf8c58b",
   "metadata": {},
   "outputs": [],
   "source": [
    "df=pd.read_csv(\"spotify_dataset.csv\")\n",
    "df"
   ]
  },
  {
   "cell_type": "markdown",
   "id": "9aa5d845",
   "metadata": {},
   "source": [
    "### Columns Name"
   ]
  },
  {
   "cell_type": "code",
   "execution_count": null,
   "id": "ecad141e",
   "metadata": {},
   "outputs": [],
   "source": [
    "df.columns"
   ]
  },
  {
   "cell_type": "code",
   "execution_count": null,
   "id": "d9e71c6a",
   "metadata": {},
   "outputs": [],
   "source": [
    "df.iloc[0]"
   ]
  },
  {
   "cell_type": "code",
   "execution_count": null,
   "id": "161c0a6b",
   "metadata": {},
   "outputs": [],
   "source": [
    "df.info()"
   ]
  },
  {
   "cell_type": "markdown",
   "id": "d438bbcd",
   "metadata": {},
   "source": [
    "###  Changing Datatype of 'Stream' Column to int"
   ]
  },
  {
   "cell_type": "code",
   "execution_count": null,
   "id": "29f5a3be",
   "metadata": {},
   "outputs": [],
   "source": [
    "df['Streams'] = df['Streams'].replace(',','', regex=True)\n",
    "df['Streams'] = df['Streams'].astype('int32')"
   ]
  },
  {
   "cell_type": "markdown",
   "id": "dd2392bc",
   "metadata": {},
   "source": [
    "### Dividing our dataframe on the basis of ranking and  song data"
   ]
  },
  {
   "cell_type": "code",
   "execution_count": null,
   "id": "0403159f",
   "metadata": {},
   "outputs": [],
   "source": [
    "ranking_data = df[['Song Name', 'Highest Charting Position', 'Number of Times Charted', 'Week of Highest Charting']].copy()\n",
    "song_data = df[['Song Name', 'Streams', 'Artist',\n",
    "       'Artist Followers', 'Song ID', 'Genre', 'Release Date', 'Weeks Charted',\n",
    "       'Popularity','Duration']].copy()"
   ]
  },
  {
   "cell_type": "markdown",
   "id": "86736f1a",
   "metadata": {},
   "source": [
    "### Calculating the Start and End Highest Charting of a particular song"
   ]
  },
  {
   "cell_type": "code",
   "execution_count": null,
   "id": "7453d647",
   "metadata": {},
   "outputs": [],
   "source": [
    "ranking_data[['Start Highest Charting', 'End Highest Charting']] = ranking_data['Week of Highest Charting'].str.split('--', expand = True)\n",
    "ranking_data['Start Highest Charting'] = pd.to_datetime(ranking_data['Start Highest Charting'])\n",
    "ranking_data['End Highest Charting'] = pd.to_datetime(ranking_data['End Highest Charting'])\n"
   ]
  },
  {
   "cell_type": "markdown",
   "id": "f27a75c9",
   "metadata": {},
   "source": [
    "### Calculating the charting score of every song "
   ]
  },
  {
   "cell_type": "code",
   "execution_count": null,
   "id": "d0a03a21",
   "metadata": {},
   "outputs": [],
   "source": [
    "ranking_data['Charting Score'] = (ranking_data['Highest Charting Position'] - 201) * (-1)\n",
    "ranking_data['Charting Score Sum'] = ranking_data['Charting Score'] * ranking_data['Number of Times Charted']\n"
   ]
  },
  {
   "cell_type": "markdown",
   "id": "48299df0",
   "metadata": {},
   "source": [
    "### Plotting Graph of Top 10 Charting Score Sum"
   ]
  },
  {
   "cell_type": "code",
   "execution_count": null,
   "id": "a9375b27",
   "metadata": {},
   "outputs": [],
   "source": [
    "top10_Charting_Score = ranking_data[['Song Name', 'Charting Score Sum']].sort_values(by = 'Charting Score Sum', ascending = False).iloc[:10]\n",
    "px.bar(top10_Charting_Score, x = 'Song Name', y = 'Charting Score Sum', color = 'Song Name', title = 'Top 10 Charting Score Sum')"
   ]
  },
  {
   "cell_type": "markdown",
   "id": "94d6e3b0",
   "metadata": {},
   "source": [
    "### Plotting Graph of Top 10 Charting Score of Ranking 1st"
   ]
  },
  {
   "cell_type": "code",
   "execution_count": null,
   "id": "af2aafaf",
   "metadata": {},
   "outputs": [],
   "source": [
    "top10_ranking_1st = ranking_data[ranking_data['Highest Charting Position'] == 1].sort_values(by = 'Number of Times Charted', ascending = False)\n",
    "top10_ranking_1st = top10_ranking_1st[['Song Name', 'Number of Times Charted']].iloc[:10]\n",
    "px.bar(top10_ranking_1st, x = 'Song Name', y = 'Number of Times Charted', color = 'Song Name', title = 'Top 10 Charting Score of Ranking 1st')\n"
   ]
  },
  {
   "cell_type": "markdown",
   "id": "209edcf3",
   "metadata": {},
   "source": [
    "### Plotting Graph of Top 10 Charting Score of Ranking 2nd"
   ]
  },
  {
   "cell_type": "code",
   "execution_count": null,
   "id": "00fc3011",
   "metadata": {},
   "outputs": [],
   "source": [
    "top10_ranking_2nd = ranking_data[ranking_data['Highest Charting Position'] == 2].sort_values(by = 'Number of Times Charted', ascending = False)\n",
    "top10_ranking_2nd = top10_ranking_2nd[['Song Name', 'Number of Times Charted']].iloc[:10]\n",
    "px.bar(top10_ranking_2nd, x = 'Song Name', y = 'Number of Times Charted', color = 'Song Name', title = 'Top 10 Charting Score of Ranking 2nd')\n"
   ]
  },
  {
   "cell_type": "markdown",
   "id": "efe80ae5",
   "metadata": {},
   "source": [
    "### Plotting Graph of Top 10 Number of Times Charted"
   ]
  },
  {
   "cell_type": "code",
   "execution_count": null,
   "id": "31b191e6",
   "metadata": {},
   "outputs": [],
   "source": [
    "Top10_Number_of_Times_Charted = ranking_data.sort_values(by = 'Number of Times Charted', ascending = False)\n",
    "Top10_Number_of_Times_Charted = Top10_Number_of_Times_Charted[['Song Name', 'Number of Times Charted']].iloc[:10]\n",
    "px.bar(Top10_Number_of_Times_Charted, x = 'Song Name', y = 'Number of Times Charted', color = 'Song Name', title = 'Top 10 Number of Times Charted')\n"
   ]
  },
  {
   "cell_type": "markdown",
   "id": "cfe0e532",
   "metadata": {},
   "source": [
    "### Plotting Graph of Top 10 Most Streamed Song"
   ]
  },
  {
   "cell_type": "code",
   "execution_count": null,
   "id": "c6470041",
   "metadata": {},
   "outputs": [],
   "source": [
    "sort_streams=df.sort_values(by=['Streams'],ascending=False)\n",
    "px.bar(sort_streams.head(10),x='Song Name',y='Streams', title=\"Top 10 Most Streamed Song\",color=\"Song Name\")"
   ]
  },
  {
   "cell_type": "markdown",
   "id": "f3a45228",
   "metadata": {},
   "source": [
    "### Plotting Graph of Top 10 Streamed Genres"
   ]
  },
  {
   "cell_type": "code",
   "execution_count": null,
   "id": "dec2b628",
   "metadata": {},
   "outputs": [],
   "source": [
    "stream_genre=df.groupby('Genre', as_index = False)['Streams'].sum().sort_values(by=\"Streams\", ascending=False)\n",
    "stream_genre=stream_genre.drop([394],axis=0)\n",
    "px.bar(stream_genre.head(10),x='Genre',y='Streams', title=\"Top 10 Streamed Genres\", color=\"Genre\")"
   ]
  },
  {
   "cell_type": "markdown",
   "id": "4a34899e",
   "metadata": {},
   "source": [
    "### Plotting Graph of Top 10 Artists with Highest Numbers of Times Charted"
   ]
  },
  {
   "cell_type": "code",
   "execution_count": null,
   "id": "e5967fdf",
   "metadata": {},
   "outputs": [],
   "source": [
    "#here we plot 10 most popular artist based on their appearence in charts\n",
    "df_numbercharted=df.groupby('Artist').sum().sort_values('Number of Times Charted', ascending=False)\n",
    "df_numbercharted=df_numbercharted.reset_index()\n",
    "df_numbercharted\n",
    "px.bar(df_numbercharted.head(10),x='Artist',y='Number of Times Charted',color='Artist',title=\"Top 10 Artists with Highest Numbers of Times Charted\")\n"
   ]
  },
  {
   "cell_type": "markdown",
   "id": "ac864e48",
   "metadata": {},
   "source": [
    "### Calculating Mean Charting Score Sum of every song "
   ]
  },
  {
   "cell_type": "code",
   "execution_count": null,
   "id": "221a1033",
   "metadata": {},
   "outputs": [],
   "source": [
    "Charting_date = ranking_data.groupby('Start Highest Charting', as_index = False)['Charting Score Sum'].mean()\n",
    "Charting_date.head()"
   ]
  },
  {
   "cell_type": "markdown",
   "id": "c9c217ac",
   "metadata": {},
   "source": [
    "### Plotting Graph of Average Charting Score by date"
   ]
  },
  {
   "cell_type": "code",
   "execution_count": null,
   "id": "29c8becf",
   "metadata": {},
   "outputs": [],
   "source": [
    "px.line(Charting_date, x = 'Start Highest Charting', y = 'Charting Score Sum', title = 'Average Charting Score by date')"
   ]
  },
  {
   "cell_type": "markdown",
   "id": "150cf03b",
   "metadata": {},
   "source": [
    "### Plotting Graph of Top 10 Artists by Popularity"
   ]
  },
  {
   "cell_type": "code",
   "execution_count": null,
   "id": "9423bde0",
   "metadata": {},
   "outputs": [],
   "source": [
    "song_data['Popularity'] = pd.to_numeric(song_data['Popularity'], errors = 'coerce')\n",
    "#song_data['Artist Followers'] = pd.to_numeric(song_data['Artist Followers'], errors = 'coerce')\n",
    "artistsbypop = song_data.groupby(\"Artist\")['Popularity'].sum().sort_values(ascending=False)[:10]\n",
    "artistsbypop=artistsbypop.reset_index()\n",
    "px.bar(artistsbypop, x=\"Artist\",y=\"Popularity\", color=\"Artist\", title=\"Top 10 Artists by Popularity\")\n"
   ]
  },
  {
   "cell_type": "markdown",
   "id": "113664db",
   "metadata": {},
   "source": [
    "### Calculating the First and Last Charted Date of a particular song"
   ]
  },
  {
   "cell_type": "code",
   "execution_count": null,
   "id": "1fedd5f6",
   "metadata": {},
   "outputs": [],
   "source": [
    "song_data['First Charted'] = [song_data['Weeks Charted'].str.split('\\n').iloc[i][-1].split('--')[0] for i in range(song_data.shape[0])]\n",
    "song_data['Last Charted'] = [song_data['Weeks Charted'].str.split('\\n').iloc[i][0].split('--')[0] for i in range(song_data.shape[0])]\n"
   ]
  },
  {
   "cell_type": "markdown",
   "id": "29abe3de",
   "metadata": {},
   "source": [
    "### Plotting Graph of Top 10 Artist With Most No. Of Songs"
   ]
  },
  {
   "cell_type": "code",
   "execution_count": null,
   "id": "f3529a74",
   "metadata": {},
   "outputs": [],
   "source": [
    "song_data['First Charted'] = pd.to_datetime(song_data['First Charted'], errors = 'coerce')\n",
    "song_data['Last Charted'] = pd.to_datetime(song_data['Last Charted'], errors = 'coerce')\n",
    "song_data['On Chart'] = song_data['Last Charted'] - song_data['First Charted']\n",
    "song_data['On Chart']=song_data['On Chart'].dt.days\n",
    "artistsbyonchart = song_data.groupby(\"Artist\")['Song Name'].count().sort_values(ascending=False)[:10]\n",
    "artistsbyonchart=artistsbyonchart.reset_index()\n",
    "px.bar(artistsbyonchart, x=\"Artist\",y=\"Song Name\", color=\"Artist\", title=\"Top 10 Artist With Most No. Of Songs\", labels={\"Song Name\": \"No. of Songs\"})\n"
   ]
  },
  {
   "cell_type": "markdown",
   "id": "45130b8b",
   "metadata": {},
   "source": [
    "### Converting Duration From ms to minutes"
   ]
  },
  {
   "cell_type": "code",
   "execution_count": null,
   "id": "1e9138eb",
   "metadata": {
    "scrolled": true
   },
   "outputs": [],
   "source": [
    "song_data['Duration'] = pd.to_numeric(song_data['Duration'].astype(str), errors = 'coerce')\n",
    "song_data['Duration']=song_data['Duration']/60000"
   ]
  },
  {
   "cell_type": "markdown",
   "id": "6a0f827e",
   "metadata": {},
   "source": [
    "### Plotting Graph of Top 10 Longest Song"
   ]
  },
  {
   "cell_type": "code",
   "execution_count": null,
   "id": "d5f073fc",
   "metadata": {},
   "outputs": [],
   "source": [
    "max_dur=song_data.sort_values(by=['Duration'],ascending=False)\n",
    "px.bar(max_dur.head(10),x=\"Song Name\",y=\"Duration\",color=\"Song Name\",title=\"Top 10 Longest Song\")"
   ]
  },
  {
   "cell_type": "markdown",
   "id": "88b17824",
   "metadata": {},
   "source": [
    "### Plotting Graph of Songs Streamed per week  "
   ]
  },
  {
   "cell_type": "code",
   "execution_count": null,
   "id": "d0e12e6b",
   "metadata": {},
   "outputs": [],
   "source": [
    "firstchartbystream = song_data.groupby(by=['First Charted'])['Streams'].sum()\n",
    "firstchartbystream=firstchartbystream.reset_index()\n",
    "firstchartbystream=firstchartbystream.drop([0], axis=0)\n",
    "firstchartbystream['First Charted']=firstchartbystream['First Charted'].astype(str)\n",
    "px.bar(firstchartbystream, x='First Charted',y='Streams',color='First Charted',title='Distribution by week')\n"
   ]
  }
 ],
 "metadata": {
  "kernelspec": {
   "display_name": "Python 3 (ipykernel)",
   "language": "python",
   "name": "python3"
  },
  "language_info": {
   "codemirror_mode": {
    "name": "ipython",
    "version": 3
   },
   "file_extension": ".py",
   "mimetype": "text/x-python",
   "name": "python",
   "nbconvert_exporter": "python",
   "pygments_lexer": "ipython3",
   "version": "3.13.3"
  }
 },
 "nbformat": 4,
 "nbformat_minor": 5
}
